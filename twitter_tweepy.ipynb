{
 "cells": [
  {
   "cell_type": "markdown",
   "metadata": {},
   "source": [
    "## Twitter API with Tweepy"
   ]
  },
  {
   "cell_type": "code",
   "execution_count": null,
   "metadata": {},
   "outputs": [],
   "source": [
    "import tweepy"
   ]
  },
  {
   "cell_type": "code",
   "execution_count": null,
   "metadata": {},
   "outputs": [],
   "source": [
    "CONSUMER_API_KEY = 'your consumer api key'\n",
    "CONSUMER_API_SECRET = 'your consumer api secret'\n",
    "ACCESS_TOKEN ='your access toke'\n",
    "ACCESS_TOKEN_SECRET = 'your access toke secret'\n",
    "auth = tweepy.OAuthHandler(CONSUMER_API_KEY, CONSUMER_API_SECRET)\n",
    "auth.set_access_token(ACCESS_TOKEN, ACCESS_TOKEN_SECRET)"
   ]
  },
  {
   "cell_type": "code",
   "execution_count": null,
   "metadata": {
    "scrolled": true
   },
   "outputs": [],
   "source": [
    "# Test get tweets by any keyword\n",
    "keywords = ['#dirumahaja'] # put anythin, it could be hashtag, username, or tweet keyword\n",
    "api = tweepy.API(auth, wait_on_rate_limit=True, wait_on_rate_limit_notify=True)\n",
    "for tweet in tweepy.Cursor(api.search, q=keywords, lang='id').items(10):\n",
    "    # print in format \"user screen name --> tweet text\"\n",
    "    print(f'{tweet.user.screen_name} --> {tweet.text}') "
   ]
  },
  {
   "cell_type": "code",
   "execution_count": null,
   "metadata": {},
   "outputs": [],
   "source": [
    "# Methods for get tweet in User Timelines\n",
    "timeline = api.home_timeline()\n",
    "for tweet in timeline:\n",
    "    print(f\"{tweet.user.name} said {tweet.text}\")"
   ]
  },
  {
   "cell_type": "code",
   "execution_count": null,
   "metadata": {
    "scrolled": true
   },
   "outputs": [],
   "source": [
    "# Methods for Users\n",
    "# If you want get user's details\n",
    "user = api.get_user('tweeter username') # put tweeter username here\n",
    "\n",
    "print('User details: ')\n",
    "print(user.name)\n",
    "print(user.description)\n",
    "print(user.location)\n",
    "\n",
    "print('Last 20 followers: ')\n",
    "for follower in user.followers():\n",
    "    print(follower.name)"
   ]
  },
  {
   "cell_type": "code",
   "execution_count": null,
   "metadata": {},
   "outputs": [],
   "source": [
    "# print all the attribute in the trends_available method\n",
    "trends_country = api.trends_available()\n",
    "for trend in trends_country:\n",
    "    print(trend)"
   ]
  },
  {
   "cell_type": "code",
   "execution_count": null,
   "metadata": {},
   "outputs": [],
   "source": [
    "# Function to get trending topic by country name\n",
    "def get_trending_topic_by_country(country):\n",
    "    trends_country = api.trends_available()\n",
    "    for trend in trends_country:\n",
    "        if trend['name'] == country:\n",
    "            country_info = (trend['name'], trend['woeid'])\n",
    "            print('Country: ', trend['name'], 'WOEID: ', trend['woeid'])\n",
    "    \n",
    "    trending_topics = []\n",
    "    trends_result = api.trends_place(country_info[1])\n",
    "    for tren in trends_result[0]['trends']:\n",
    "        print(tren['name'])\n",
    "        trending_topics.append(tren['name'])\n",
    "        \n",
    "    return trending_topics"
   ]
  },
  {
   "cell_type": "code",
   "execution_count": null,
   "metadata": {},
   "outputs": [],
   "source": [
    "trending_topics = get_trending_topic_by_country('Indonesia') # put any country"
   ]
  },
  {
   "cell_type": "code",
   "execution_count": null,
   "metadata": {},
   "outputs": [],
   "source": [
    "# Store tweet attribut into pandas dataframe\n",
    "import pandas as pd\n",
    "\n",
    "num_of_tweets = 100 # number of tweets that we want to fetch\n",
    "# date_since = '2020-03-01'\n",
    "keywords = trending_topics[0] # get tweet based on Number 1 trending topic \n",
    "api = tweepy.API(auth, wait_on_rate_limit=True, wait_on_rate_limit_notify=True)\n",
    "\n",
    "tweets = tweepy.Cursor(api.search, q=keywords, lang='id').items(num_of_tweets)\n",
    "# These are all I can get with free Twitter API, you can get more with the premium one\n",
    "dt_tweets = [[tweet.user.name, tweet.user.screen_name, tweet.user.location, \n",
    "              tweet.user.verified, tweet.user.followers_count,\n",
    "              tweet.user.friends_count, tweet.user.listed_count, \n",
    "              tweet.created_at, tweet.text, tweet.coordinates, \n",
    "              tweet.place, tweet.favorite_count] for tweet in tweets]\n",
    "\n",
    "# store the tweet into DataFrame for easy read and analysis\n",
    "df_tweets = pd.DataFrame(data=dt_tweets)\n",
    "df_tweets.columns = ['username', 'screen_name', 'user_location', 'user_verified', \n",
    "                     'followers_count', 'friends_count', 'listed_count', 'tweet_created_at',\n",
    "                     'tweet_text', 'tweet_coordinates', 'tweet_place', 'tweet_favorite_count']\n",
    "                     \n",
    "df_tweets.head()"
   ]
  },
  {
   "cell_type": "code",
   "execution_count": null,
   "metadata": {},
   "outputs": [],
   "source": [
    "df_tweets.sort_values(by='user_location', ascending=False)"
   ]
  },
  {
   "cell_type": "code",
   "execution_count": null,
   "metadata": {},
   "outputs": [],
   "source": [
    "# Create tweet stream listener\n",
    "# If you want to get tweet stream\n",
    "class MyStreamListener(tweepy.StreamListener):\n",
    "    def on_status(self, status):\n",
    "        print(status.text)\n",
    "        \n",
    "mystreamlistener = MyStreamListener()\n",
    "mystream = tweepy.Stream(auth = api.auth, listener=mystreamlistener)"
   ]
  },
  {
   "cell_type": "code",
   "execution_count": null,
   "metadata": {},
   "outputs": [],
   "source": [
    "mystream.filter(track=['corona'])"
   ]
  },
  {
   "cell_type": "code",
   "execution_count": null,
   "metadata": {},
   "outputs": [],
   "source": []
  }
 ],
 "metadata": {
  "kernelspec": {
   "display_name": "Python 3",
   "language": "python",
   "name": "python3"
  },
  "language_info": {
   "codemirror_mode": {
    "name": "ipython",
    "version": 3
   },
   "file_extension": ".py",
   "mimetype": "text/x-python",
   "name": "python",
   "nbconvert_exporter": "python",
   "pygments_lexer": "ipython3",
   "version": "3.7.4"
  }
 },
 "nbformat": 4,
 "nbformat_minor": 2
}
